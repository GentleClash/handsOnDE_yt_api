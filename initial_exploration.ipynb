{
 "cells": [
  {
   "cell_type": "code",
   "execution_count": 71,
   "id": "e1ae4795",
   "metadata": {},
   "outputs": [],
   "source": [
    "import requests\n",
    "from dotenv import load_dotenv\n",
    "import os\n",
    "from dataclasses import dataclass, field\n",
    "from typing import Optional, Dict, Any, List\n",
    "import json\n",
    "from datetime import datetime\n",
    "from pprint import pprint\n",
    "\n",
    "os.makedirs(\"responses\", exist_ok=True)\n",
    "os.makedirs(\"responses/raw\", exist_ok=True)"
   ]
  },
  {
   "cell_type": "code",
   "execution_count": null,
   "id": "f69f31a2",
   "metadata": {},
   "outputs": [],
   "source": [
    "load_dotenv()\n",
    "\n",
    "@dataclass\n",
    "class BasicConfig:\n",
    "    api_key: str = field(default_factory=lambda: os.getenv(\"GOOGLE_API_KEY\"))\n",
    "    base_url: str = field(default=\"https://www.googleapis.com/youtube/v3\")\n",
    "\n",
    "    "
   ]
  },
  {
   "cell_type": "code",
   "execution_count": 73,
   "id": "5bd7b688",
   "metadata": {},
   "outputs": [],
   "source": [
    "# Exploring responses\n",
    "\n",
    "urldefaults = BasicConfig()\n",
    "def get_url(endpoint: str, params: dict = None) -> str:\n",
    "    if params is None:\n",
    "        params = {}\n",
    "    params['key'] = urldefaults.api_key\n",
    "    return f\"{urldefaults.base_url}{endpoint}?{requests.compat.urlencode(params)}\"\n",
    "\n",
    "def get_response(endpoint: str, params: dict = None, dump: bool = False, max_pages: int = 1, base_file_name: Optional[str] = None) -> List[Dict[str, Any]]:\n",
    "    results = []\n",
    "    page_count = 0\n",
    "    next_page_token = None\n",
    "\n",
    "    if base_file_name:\n",
    "        base_name_for_dump: str = os.path.splitext(base_file_name)[0]\n",
    "    else:\n",
    "        base_name_for_dump: str = f\"responses/raw/{endpoint.replace('/', '_')}_response\"\n",
    "\n",
    "\n",
    "    while page_count < max_pages:\n",
    "        if next_page_token:\n",
    "            params = params.copy() if params else {}\n",
    "            params['pageToken'] = next_page_token\n",
    "        url = get_url(endpoint, params) \n",
    "        response = requests.get(url)\n",
    "        if response.status_code != 200:\n",
    "            raise Exception(f\"Error: {response.status_code} - {response.text}\")\n",
    "        data = response.json()\n",
    "        results.append(data)\n",
    "\n",
    "        if dump:\n",
    "            print(f\"Dumping page {page_count + 1}...\")\n",
    "            page_suffix: str = f\"_page_{page_count+1}\"\n",
    "            timestamp: str = datetime.now().strftime('%Y_%m_%d_%H_%M_%S')\n",
    "            current_file_name: str = f\"{base_name_for_dump}{page_suffix}_{timestamp}.json\"\n",
    "\n",
    "            with open(current_file_name, 'w') as f:\n",
    "                json.dump(data, f, indent=4)\n",
    "            print(f\"Dumped to: {current_file_name}\")\n",
    "\n",
    "        next_page_token = data.get('nextPageToken')\n",
    "        if not next_page_token:\n",
    "            break\n",
    "        page_count += 1\n",
    "\n",
    "    return results\n"
   ]
  },
  {
   "cell_type": "code",
   "execution_count": 74,
   "id": "52a01085",
   "metadata": {},
   "outputs": [
    {
     "name": "stdout",
     "output_type": "stream",
     "text": [
      "Dumping page 1...\n",
      "Dumped to: responses/raw/_videos_response_page_1_2025_07_31_08_02_39.json\n",
      "Dumping page 2...\n",
      "Dumped to: responses/raw/_videos_response_page_2_2025_07_31_08_02_39.json\n"
     ]
    }
   ],
   "source": [
    "parameters: Dict[str, str] = {\n",
    "    \"part\": \"snippet\",\n",
    "    \"chart\": \"mostPopular\",\n",
    "    \"regionCode\": \"IN\",\n",
    "}\n",
    "\n",
    "url = get_url(\"/videos\", parameters)\n",
    "response = get_response(\"/videos\", parameters, dump=True, max_pages=2)"
   ]
  },
  {
   "cell_type": "code",
   "execution_count": 75,
   "id": "d3b2cebc",
   "metadata": {},
   "outputs": [],
   "source": [
    "def extract_field_types(data: List[Dict[str, Any]]) -> List[Any]:\n",
    "    \"\"\"Extracts field names and their types from a list of dictionaries.\"\"\"\n",
    "    def get_types(obj) -> Any:\n",
    "        if isinstance(obj, dict):\n",
    "            fields = {}\n",
    "            for k, v in obj.items():\n",
    "                if isinstance(v, dict):\n",
    "                    fields[k] = get_types(v)\n",
    "                elif isinstance(v, list) and v:\n",
    "                    if isinstance(v[0], dict):\n",
    "                        fields[k] = [get_types(v[0])]\n",
    "                    else:\n",
    "                        fields[k] = [type(v[0]).__name__]\n",
    "                else:\n",
    "                    fields[k] = type(v).__name__ if v is not None else None\n",
    "            return fields\n",
    "        return type(obj).__name__\n",
    "    return [get_types(item) for item in data]\n"
   ]
  },
  {
   "cell_type": "code",
   "execution_count": 76,
   "id": "9fc540a6",
   "metadata": {},
   "outputs": [],
   "source": [
    "fields = extract_field_types(data=response)"
   ]
  },
  {
   "cell_type": "code",
   "execution_count": 77,
   "id": "49ef989e",
   "metadata": {},
   "outputs": [
    {
     "name": "stdout",
     "output_type": "stream",
     "text": [
      "[{'etag': 'str',\n",
      "  'items': [{'etag': 'str',\n",
      "             'id': 'str',\n",
      "             'kind': 'str',\n",
      "             'snippet': {'categoryId': 'str',\n",
      "                         'channelId': 'str',\n",
      "                         'channelTitle': 'str',\n",
      "                         'defaultAudioLanguage': 'str',\n",
      "                         'defaultLanguage': 'str',\n",
      "                         'description': 'str',\n",
      "                         'liveBroadcastContent': 'str',\n",
      "                         'localized': {'description': 'str', 'title': 'str'},\n",
      "                         'publishedAt': 'str',\n",
      "                         'tags': ['str'],\n",
      "                         'thumbnails': {'default': {'height': 'int',\n",
      "                                                    'url': 'str',\n",
      "                                                    'width': 'int'},\n",
      "                                        'high': {'height': 'int',\n",
      "                                                 'url': 'str',\n",
      "                                                 'width': 'int'},\n",
      "                                        'maxres': {'height': 'int',\n",
      "                                                   'url': 'str',\n",
      "                                                   'width': 'int'},\n",
      "                                        'medium': {'height': 'int',\n",
      "                                                   'url': 'str',\n",
      "                                                   'width': 'int'},\n",
      "                                        'standard': {'height': 'int',\n",
      "                                                     'url': 'str',\n",
      "                                                     'width': 'int'}},\n",
      "                         'title': 'str'}}],\n",
      "  'kind': 'str',\n",
      "  'nextPageToken': 'str',\n",
      "  'pageInfo': {'resultsPerPage': 'int', 'totalResults': 'int'}},\n",
      " {'etag': 'str',\n",
      "  'items': [{'etag': 'str',\n",
      "             'id': 'str',\n",
      "             'kind': 'str',\n",
      "             'snippet': {'categoryId': 'str',\n",
      "                         'channelId': 'str',\n",
      "                         'channelTitle': 'str',\n",
      "                         'defaultLanguage': 'str',\n",
      "                         'description': 'str',\n",
      "                         'liveBroadcastContent': 'str',\n",
      "                         'localized': {'description': 'str', 'title': 'str'},\n",
      "                         'publishedAt': 'str',\n",
      "                         'tags': ['str'],\n",
      "                         'thumbnails': {'default': {'height': 'int',\n",
      "                                                    'url': 'str',\n",
      "                                                    'width': 'int'},\n",
      "                                        'high': {'height': 'int',\n",
      "                                                 'url': 'str',\n",
      "                                                 'width': 'int'},\n",
      "                                        'maxres': {'height': 'int',\n",
      "                                                   'url': 'str',\n",
      "                                                   'width': 'int'},\n",
      "                                        'medium': {'height': 'int',\n",
      "                                                   'url': 'str',\n",
      "                                                   'width': 'int'},\n",
      "                                        'standard': {'height': 'int',\n",
      "                                                     'url': 'str',\n",
      "                                                     'width': 'int'}},\n",
      "                         'title': 'str'}}],\n",
      "  'kind': 'str',\n",
      "  'nextPageToken': 'str',\n",
      "  'pageInfo': {'resultsPerPage': 'int', 'totalResults': 'int'},\n",
      "  'prevPageToken': 'str'}]\n"
     ]
    }
   ],
   "source": [
    "pprint(fields)"
   ]
  },
  {
   "cell_type": "code",
   "execution_count": null,
   "id": "53a18884",
   "metadata": {},
   "outputs": [],
   "source": []
  }
 ],
 "metadata": {
  "kernelspec": {
   "display_name": "venv",
   "language": "python",
   "name": "python3"
  },
  "language_info": {
   "codemirror_mode": {
    "name": "ipython",
    "version": 3
   },
   "file_extension": ".py",
   "mimetype": "text/x-python",
   "name": "python",
   "nbconvert_exporter": "python",
   "pygments_lexer": "ipython3",
   "version": "3.13.5"
  }
 },
 "nbformat": 4,
 "nbformat_minor": 5
}
